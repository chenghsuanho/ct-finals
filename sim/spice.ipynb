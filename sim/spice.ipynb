{
 "cells": [
  {
   "cell_type": "code",
   "execution_count": 1,
   "id": "initial_id",
   "metadata": {
    "collapsed": true,
    "ExecuteTime": {
     "end_time": "2023-12-23T08:22:12.989218623Z",
     "start_time": "2023-12-23T08:22:12.664069282Z"
    }
   },
   "outputs": [
    {
     "ename": "ValueError",
     "evalue": "Unknown argument ic=0",
     "output_type": "error",
     "traceback": [
      "\u001B[0;31m---------------------------------------------------------------------------\u001B[0m",
      "\u001B[0;31mValueError\u001B[0m                                Traceback (most recent call last)",
      "Cell \u001B[0;32mIn[1], line 5\u001B[0m\n\u001B[1;32m      3\u001B[0m netlist_path \u001B[38;5;241m=\u001B[39m \u001B[38;5;124m\"\u001B[39m\u001B[38;5;124mcircuit.netlist\u001B[39m\u001B[38;5;124m\"\u001B[39m  \u001B[38;5;66;03m# The path to the SPICE netlist file\u001B[39;00m\n\u001B[1;32m      4\u001B[0m parser \u001B[38;5;241m=\u001B[39m SpiceParser(path\u001B[38;5;241m=\u001B[39mnetlist_path)\n\u001B[0;32m----> 5\u001B[0m circuit \u001B[38;5;241m=\u001B[39m \u001B[43mparser\u001B[49m\u001B[38;5;241;43m.\u001B[39;49m\u001B[43mbuild_circuit\u001B[49m\u001B[43m(\u001B[49m\u001B[43m)\u001B[49m\n\u001B[1;32m      7\u001B[0m simulator \u001B[38;5;241m=\u001B[39m circuit\u001B[38;5;241m.\u001B[39msimulator(temperature\u001B[38;5;241m=\u001B[39m\u001B[38;5;241m25\u001B[39m, nominal_temperature\u001B[38;5;241m=\u001B[39m\u001B[38;5;241m25\u001B[39m)\n\u001B[1;32m      8\u001B[0m analysis \u001B[38;5;241m=\u001B[39m simulator\u001B[38;5;241m.\u001B[39mtransient(step_time\u001B[38;5;241m=\u001B[39m\u001B[38;5;241m1e-6\u001B[39m, end_time\u001B[38;5;241m=\u001B[39m\u001B[38;5;241m1e-3\u001B[39m)  \u001B[38;5;66;03m# 1 microsecond step, 1 millisecond end time\u001B[39;00m\n",
      "File \u001B[0;32m~/nc/ntut/ct-finals/.venv/lib/python3.11/site-packages/PySpice/Spice/Parser.py:1023\u001B[0m, in \u001B[0;36mSpiceParser.build_circuit\u001B[0;34m(self, ground)\u001B[0m\n\u001B[1;32m   1016\u001B[0m \u001B[38;5;250m\u001B[39m\u001B[38;5;124;03m\"\"\"Build a :class:`Circuit` instance.\u001B[39;00m\n\u001B[1;32m   1017\u001B[0m \n\u001B[1;32m   1018\u001B[0m \u001B[38;5;124;03mUse the *ground* parameter to specify the node which must be translated to 0 (SPICE ground node).\u001B[39;00m\n\u001B[1;32m   1019\u001B[0m \n\u001B[1;32m   1020\u001B[0m \u001B[38;5;124;03m\"\"\"\u001B[39;00m\n\u001B[1;32m   1022\u001B[0m circuit \u001B[38;5;241m=\u001B[39m Circuit(\u001B[38;5;28mstr\u001B[39m(\u001B[38;5;28mself\u001B[39m\u001B[38;5;241m.\u001B[39m_title))\n\u001B[0;32m-> 1023\u001B[0m \u001B[38;5;28;43mself\u001B[39;49m\u001B[38;5;241;43m.\u001B[39;49m\u001B[43m_build_circuit\u001B[49m\u001B[43m(\u001B[49m\u001B[43mcircuit\u001B[49m\u001B[43m,\u001B[49m\u001B[43m \u001B[49m\u001B[38;5;28;43mself\u001B[39;49m\u001B[38;5;241;43m.\u001B[39;49m\u001B[43m_statements\u001B[49m\u001B[43m,\u001B[49m\u001B[43m \u001B[49m\u001B[43mground\u001B[49m\u001B[43m)\u001B[49m\n\u001B[1;32m   1024\u001B[0m \u001B[38;5;28;01mreturn\u001B[39;00m circuit\n",
      "File \u001B[0;32m~/nc/ntut/ct-finals/.venv/lib/python3.11/site-packages/PySpice/Spice/Parser.py:1005\u001B[0m, in \u001B[0;36mSpiceParser._build_circuit\u001B[0;34m(circuit, statements, ground)\u001B[0m\n\u001B[1;32m   1003\u001B[0m \u001B[38;5;28;01mfor\u001B[39;00m statement \u001B[38;5;129;01min\u001B[39;00m statements:\n\u001B[1;32m   1004\u001B[0m     \u001B[38;5;28;01mif\u001B[39;00m \u001B[38;5;28misinstance\u001B[39m(statement, Element):\n\u001B[0;32m-> 1005\u001B[0m         \u001B[43mstatement\u001B[49m\u001B[38;5;241;43m.\u001B[39;49m\u001B[43mbuild\u001B[49m\u001B[43m(\u001B[49m\u001B[43mcircuit\u001B[49m\u001B[43m,\u001B[49m\u001B[43m \u001B[49m\u001B[43mground\u001B[49m\u001B[43m)\u001B[49m\n\u001B[1;32m   1006\u001B[0m     \u001B[38;5;28;01melif\u001B[39;00m \u001B[38;5;28misinstance\u001B[39m(statement, Model):\n\u001B[1;32m   1007\u001B[0m         statement\u001B[38;5;241m.\u001B[39mbuild(circuit)\n",
      "File \u001B[0;32m~/nc/ntut/ct-finals/.venv/lib/python3.11/site-packages/PySpice/Spice/Parser.py:559\u001B[0m, in \u001B[0;36mElement.build\u001B[0;34m(self, circuit, ground)\u001B[0m\n\u001B[1;32m    556\u001B[0m     message \u001B[38;5;241m=\u001B[39m \u001B[38;5;124m'\u001B[39m\u001B[38;5;124m \u001B[39m\u001B[38;5;124m'\u001B[39m\u001B[38;5;241m.\u001B[39mjoin([\u001B[38;5;28mstr\u001B[39m(x) \u001B[38;5;28;01mfor\u001B[39;00m x \u001B[38;5;129;01min\u001B[39;00m (\u001B[38;5;28mself\u001B[39m\u001B[38;5;241m.\u001B[39m_prefix, \u001B[38;5;28mself\u001B[39m\u001B[38;5;241m.\u001B[39m_name, nodes,\n\u001B[1;32m    557\u001B[0m                                          \u001B[38;5;28mself\u001B[39m\u001B[38;5;241m.\u001B[39m_parameters, \u001B[38;5;28mself\u001B[39m\u001B[38;5;241m.\u001B[39m_dict_parameters)])\n\u001B[1;32m    558\u001B[0m     \u001B[38;5;28mself\u001B[39m\u001B[38;5;241m.\u001B[39m_logger\u001B[38;5;241m.\u001B[39mdebug(message)\n\u001B[0;32m--> 559\u001B[0m \u001B[43mfactory\u001B[49m\u001B[43m(\u001B[49m\u001B[38;5;28;43mself\u001B[39;49m\u001B[38;5;241;43m.\u001B[39;49m\u001B[43m_name\u001B[49m\u001B[43m,\u001B[49m\u001B[43m \u001B[49m\u001B[38;5;241;43m*\u001B[39;49m\u001B[43margs\u001B[49m\u001B[43m,\u001B[49m\u001B[43m \u001B[49m\u001B[38;5;241;43m*\u001B[39;49m\u001B[38;5;241;43m*\u001B[39;49m\u001B[43mkwargs\u001B[49m\u001B[43m)\u001B[49m\n",
      "File \u001B[0;32m~/nc/ntut/ct-finals/.venv/lib/python3.11/site-packages/PySpice/Spice/__init__.py:56\u001B[0m, in \u001B[0;36m_make_function.<locals>.function\u001B[0;34m(self, *args, **kwargs)\u001B[0m\n\u001B[1;32m     55\u001B[0m \u001B[38;5;28;01mdef\u001B[39;00m \u001B[38;5;21mfunction\u001B[39m(\u001B[38;5;28mself\u001B[39m, \u001B[38;5;241m*\u001B[39margs, \u001B[38;5;241m*\u001B[39m\u001B[38;5;241m*\u001B[39mkwargs):\n\u001B[0;32m---> 56\u001B[0m     \u001B[38;5;28;01mreturn\u001B[39;00m \u001B[43melement_class\u001B[49m\u001B[43m(\u001B[49m\u001B[38;5;28;43mself\u001B[39;49m\u001B[43m,\u001B[49m\u001B[43m \u001B[49m\u001B[38;5;241;43m*\u001B[39;49m\u001B[43margs\u001B[49m\u001B[43m,\u001B[49m\u001B[43m \u001B[49m\u001B[38;5;241;43m*\u001B[39;49m\u001B[38;5;241;43m*\u001B[39;49m\u001B[43mkwargs\u001B[49m\u001B[43m)\u001B[49m\n",
      "File \u001B[0;32m~/nc/ntut/ct-finals/.venv/lib/python3.11/site-packages/PySpice/Spice/Netlist.py:691\u001B[0m, in \u001B[0;36mFixedPinElement.__init__\u001B[0;34m(self, netlist, name, *args, **kwargs)\u001B[0m\n\u001B[1;32m    688\u001B[0m             \u001B[38;5;28;01mraise\u001B[39;00m \u001B[38;5;167;01mNameError\u001B[39;00m(\u001B[38;5;124m\"\u001B[39m\u001B[38;5;124mNode \u001B[39m\u001B[38;5;124m'\u001B[39m\u001B[38;5;132;01m{}\u001B[39;00m\u001B[38;5;124m'\u001B[39m\u001B[38;5;124m is missing for element \u001B[39m\u001B[38;5;132;01m{}\u001B[39;00m\u001B[38;5;124m\"\u001B[39m\u001B[38;5;241m.\u001B[39mformat(pin_definition\u001B[38;5;241m.\u001B[39mname, \u001B[38;5;28mself\u001B[39m\u001B[38;5;241m.\u001B[39mname))\n\u001B[1;32m    689\u001B[0m         pin_definition_nodes\u001B[38;5;241m.\u001B[39mappend((pin_definition, node))\n\u001B[0;32m--> 691\u001B[0m \u001B[38;5;28;43msuper\u001B[39;49m\u001B[43m(\u001B[49m\u001B[43m)\u001B[49m\u001B[38;5;241;43m.\u001B[39;49m\u001B[38;5;21;43m__init__\u001B[39;49m\u001B[43m(\u001B[49m\u001B[43mnetlist\u001B[49m\u001B[43m,\u001B[49m\u001B[43m \u001B[49m\u001B[43mname\u001B[49m\u001B[43m,\u001B[49m\u001B[43m \u001B[49m\u001B[38;5;241;43m*\u001B[39;49m\u001B[43margs\u001B[49m\u001B[43m,\u001B[49m\u001B[43m \u001B[49m\u001B[38;5;241;43m*\u001B[39;49m\u001B[38;5;241;43m*\u001B[39;49m\u001B[43mkwargs\u001B[49m\u001B[43m)\u001B[49m\n\u001B[1;32m    693\u001B[0m \u001B[38;5;28mself\u001B[39m\u001B[38;5;241m.\u001B[39m_pins \u001B[38;5;241m=\u001B[39m [Pin(\u001B[38;5;28mself\u001B[39m, pin_definition, netlist\u001B[38;5;241m.\u001B[39mget_node(node, \u001B[38;5;28;01mTrue\u001B[39;00m))\n\u001B[1;32m    694\u001B[0m               \u001B[38;5;28;01mfor\u001B[39;00m pin_definition, node \u001B[38;5;129;01min\u001B[39;00m pin_definition_nodes]\n",
      "File \u001B[0;32m~/nc/ntut/ct-finals/.venv/lib/python3.11/site-packages/PySpice/Spice/Netlist.py:526\u001B[0m, in \u001B[0;36mElement.__init__\u001B[0;34m(self, netlist, name, *args, **kwargs)\u001B[0m\n\u001B[1;32m    524\u001B[0m         \u001B[38;5;28;01mpass\u001B[39;00m \u001B[38;5;66;03m# cf. NonLinearVoltageSource\u001B[39;00m\n\u001B[1;32m    525\u001B[0m     \u001B[38;5;28;01melse\u001B[39;00m:\n\u001B[0;32m--> 526\u001B[0m         \u001B[38;5;28;01mraise\u001B[39;00m \u001B[38;5;167;01mValueError\u001B[39;00m(\u001B[38;5;124m'\u001B[39m\u001B[38;5;124mUnknown argument \u001B[39m\u001B[38;5;132;01m{}\u001B[39;00m\u001B[38;5;124m=\u001B[39m\u001B[38;5;132;01m{}\u001B[39;00m\u001B[38;5;124m'\u001B[39m\u001B[38;5;241m.\u001B[39mformat(key, value))\n\u001B[1;32m    528\u001B[0m \u001B[38;5;28mself\u001B[39m\u001B[38;5;241m.\u001B[39m_pins \u001B[38;5;241m=\u001B[39m ()\n\u001B[1;32m    529\u001B[0m netlist\u001B[38;5;241m.\u001B[39m_add_element(\u001B[38;5;28mself\u001B[39m)\n",
      "\u001B[0;31mValueError\u001B[0m: Unknown argument ic=0"
     ]
    }
   ],
   "source": [
    "from PySpice.Spice.Parser import SpiceParser\n",
    "\n",
    "netlist_path = \"circuit.netlist\"  # The path to the SPICE netlist file\n",
    "parser = SpiceParser(path=netlist_path)\n",
    "circuit = parser.build_circuit()\n",
    "\n",
    "simulator = circuit.simulator(temperature=25, nominal_temperature=25)\n",
    "analysis = simulator.transient(step_time=1e-6, end_time=1e-3)  # 1 microsecond step, 1 millisecond end time\n",
    "\n",
    "# We are interested in the current through the inductor L1\n",
    "inductor_current = analysis.L1\n",
    "\n",
    "# Print the current through the inductor just after the switch opens\n",
    "print(f\"Inductor current at t=0+ is: {inductor_current[0]:.4f} A\")\n"
   ]
  },
  {
   "cell_type": "code",
   "outputs": [
    {
     "name": "stderr",
     "output_type": "stream",
     "text": [
      "Unsupported Ngspice version 41\n"
     ]
    }
   ],
   "source": [
    "from PySpice.Spice.Parser import SpiceParser\n",
    "\n",
    "netlist_path = \"circuit.netlist\"  # Save the above netlist in a file with this name\n",
    "parser = SpiceParser(path=netlist_path)\n",
    "circuit = parser.build_circuit()\n",
    "\n",
    "simulator = circuit.simulator(temperature=25, nominal_temperature=25)\n",
    "analysis = simulator.transient(step_time=1e-3, end_time=100e-3)\n",
    "\n",
    "# Access the inductor current over time\n",
    "i_L = analysis['L1']  # The label 'L1' corresponds to the inductor in the netlist\n",
    "time = analysis.time  # Time values for the simulation\n",
    "\n",
    "# You can now plot i_L vs. time or process the data as needed\n"
   ],
   "metadata": {
    "collapsed": false,
    "ExecuteTime": {
     "end_time": "2023-12-23T08:33:18.131003216Z",
     "start_time": "2023-12-23T08:33:18.045171594Z"
    }
   },
   "id": "d9b0f22b0b981718",
   "execution_count": 2
  },
  {
   "cell_type": "code",
   "outputs": [
    {
     "ename": "IndexError",
     "evalue": "list index out of range",
     "output_type": "error",
     "traceback": [
      "\u001B[0;31m---------------------------------------------------------------------------\u001B[0m",
      "\u001B[0;31mIndexError\u001B[0m                                Traceback (most recent call last)",
      "Cell \u001B[0;32mIn[5], line 4\u001B[0m\n\u001B[1;32m      1\u001B[0m \u001B[38;5;28;01mfrom\u001B[39;00m \u001B[38;5;21;01mPySpice\u001B[39;00m\u001B[38;5;21;01m.\u001B[39;00m\u001B[38;5;21;01mSpice\u001B[39;00m\u001B[38;5;21;01m.\u001B[39;00m\u001B[38;5;21;01mParser\u001B[39;00m \u001B[38;5;28;01mimport\u001B[39;00m SpiceParser\n\u001B[1;32m      3\u001B[0m netlist_path \u001B[38;5;241m=\u001B[39m \u001B[38;5;124m\"\u001B[39m\u001B[38;5;124mcircuit.netlist\u001B[39m\u001B[38;5;124m\"\u001B[39m  \u001B[38;5;66;03m# Replace with the path to your netlist file\u001B[39;00m\n\u001B[0;32m----> 4\u001B[0m parser \u001B[38;5;241m=\u001B[39m \u001B[43mSpiceParser\u001B[49m\u001B[43m(\u001B[49m\u001B[43mpath\u001B[49m\u001B[38;5;241;43m=\u001B[39;49m\u001B[43mnetlist_path\u001B[49m\u001B[43m)\u001B[49m\n\u001B[1;32m      5\u001B[0m circuit \u001B[38;5;241m=\u001B[39m parser\u001B[38;5;241m.\u001B[39mbuild_circuit()\n\u001B[1;32m      7\u001B[0m simulator \u001B[38;5;241m=\u001B[39m circuit\u001B[38;5;241m.\u001B[39msimulator(temperature\u001B[38;5;241m=\u001B[39m\u001B[38;5;241m25\u001B[39m, nominal_temperature\u001B[38;5;241m=\u001B[39m\u001B[38;5;241m25\u001B[39m)\n",
      "File \u001B[0;32m~/nc/ntut/ct-finals/.venv/lib/python3.11/site-packages/PySpice/Spice/Parser.py:837\u001B[0m, in \u001B[0;36mSpiceParser.__init__\u001B[0;34m(self, path, source, end_of_line_comment, recurse, section)\u001B[0m\n\u001B[1;32m    835\u001B[0m lines \u001B[38;5;241m=\u001B[39m \u001B[38;5;28mself\u001B[39m\u001B[38;5;241m.\u001B[39m_merge_lines(raw_lines)\n\u001B[1;32m    836\u001B[0m \u001B[38;5;28mself\u001B[39m\u001B[38;5;241m.\u001B[39m_title \u001B[38;5;241m=\u001B[39m \u001B[38;5;28;01mNone\u001B[39;00m\n\u001B[0;32m--> 837\u001B[0m \u001B[38;5;28mself\u001B[39m\u001B[38;5;241m.\u001B[39m_statements \u001B[38;5;241m=\u001B[39m \u001B[38;5;28;43mself\u001B[39;49m\u001B[38;5;241;43m.\u001B[39;49m\u001B[43m_parse\u001B[49m\u001B[43m(\u001B[49m\u001B[43mlines\u001B[49m\u001B[38;5;241;43m=\u001B[39;49m\u001B[43mlines\u001B[49m\u001B[43m,\u001B[49m\u001B[43m \u001B[49m\u001B[43mrecurse\u001B[49m\u001B[38;5;241;43m=\u001B[39;49m\u001B[43mrecurse\u001B[49m\u001B[43m,\u001B[49m\u001B[43m \u001B[49m\u001B[43msection\u001B[49m\u001B[38;5;241;43m=\u001B[39;49m\u001B[43msection\u001B[49m\u001B[43m)\u001B[49m\n\u001B[1;32m    838\u001B[0m \u001B[38;5;28mself\u001B[39m\u001B[38;5;241m.\u001B[39m_find_sections()\n",
      "File \u001B[0;32m~/nc/ntut/ct-finals/.venv/lib/python3.11/site-packages/PySpice/Spice/Parser.py:957\u001B[0m, in \u001B[0;36mSpiceParser._parse\u001B[0;34m(self, lines, recurse, section)\u001B[0m\n\u001B[1;32m    955\u001B[0m \u001B[38;5;28;01melse\u001B[39;00m:\n\u001B[1;32m    956\u001B[0m     \u001B[38;5;28;01mtry\u001B[39;00m:\n\u001B[0;32m--> 957\u001B[0m         element \u001B[38;5;241m=\u001B[39m \u001B[43mElement\u001B[49m\u001B[43m(\u001B[49m\u001B[43mline\u001B[49m\u001B[43m)\u001B[49m\n\u001B[1;32m    958\u001B[0m         scope\u001B[38;5;241m.\u001B[39mappend(element)\n\u001B[1;32m    959\u001B[0m     \u001B[38;5;28;01mexcept\u001B[39;00m ParseError:\n",
      "File \u001B[0;32m~/nc/ntut/ct-finals/.venv/lib/python3.11/site-packages/PySpice/Spice/Parser.py:499\u001B[0m, in \u001B[0;36mElement.__init__\u001B[0;34m(self, line)\u001B[0m\n\u001B[1;32m    497\u001B[0m     \u001B[38;5;28;01mif\u001B[39;00m parameter\u001B[38;5;241m.\u001B[39mkey_parameter:\n\u001B[1;32m    498\u001B[0m         i \u001B[38;5;241m=\u001B[39m parameter\u001B[38;5;241m.\u001B[39mposition\n\u001B[0;32m--> 499\u001B[0m         \u001B[38;5;28mself\u001B[39m\u001B[38;5;241m.\u001B[39m_dict_parameters[parameter\u001B[38;5;241m.\u001B[39mattribute_name] \u001B[38;5;241m=\u001B[39m \u001B[38;5;28;43mself\u001B[39;49m\u001B[38;5;241;43m.\u001B[39;49m\u001B[43m_parameters\u001B[49m\u001B[43m[\u001B[49m\u001B[43mi\u001B[49m\u001B[43m]\u001B[49m\n\u001B[1;32m    500\u001B[0m         to_delete\u001B[38;5;241m.\u001B[39mappend(i)\n\u001B[1;32m    501\u001B[0m \u001B[38;5;28;01mfor\u001B[39;00m i \u001B[38;5;129;01min\u001B[39;00m to_delete:\n",
      "\u001B[0;31mIndexError\u001B[0m: list index out of range"
     ]
    }
   ],
   "source": [
    "from PySpice.Spice.Parser import SpiceParser\n",
    "\n",
    "netlist_path = \"circuit.netlist\"  # Replace with the path to your netlist file\n",
    "parser = SpiceParser(path=netlist_path)\n",
    "circuit = parser.build_circuit()\n",
    "\n",
    "simulator = circuit.simulator(temperature=25, nominal_temperature=25)\n",
    "analysis = simulator.transient(step_time=1e-6, end_time=5e-3)\n",
    "\n",
    "# Extract the current through the inductor L1 at t = 1ms\n",
    "i_L_at_1ms = analysis.L1[1e-3]\n",
    "print(f\"Inductor current i_L at t = 1ms: {i_L_at_1ms} A\")\n",
    "\n"
   ],
   "metadata": {
    "collapsed": false,
    "ExecuteTime": {
     "end_time": "2023-12-23T08:39:47.673054118Z",
     "start_time": "2023-12-23T08:39:47.606768971Z"
    }
   },
   "id": "8256434ac7eddabb",
   "execution_count": 5
  },
  {
   "cell_type": "code",
   "outputs": [
    {
     "ename": "TypeError",
     "evalue": "only length-1 arrays can be converted to Python scalars",
     "output_type": "error",
     "traceback": [
      "\u001B[0;31m---------------------------------------------------------------------------\u001B[0m",
      "\u001B[0;31mTypeError\u001B[0m                                 Traceback (most recent call last)",
      "Cell \u001B[0;32mIn[11], line 30\u001B[0m\n\u001B[1;32m     27\u001B[0m analysis2 \u001B[38;5;241m=\u001B[39m simulator\u001B[38;5;241m.\u001B[39mtransient(step_time\u001B[38;5;241m=\u001B[39mu_s(\u001B[38;5;241m1e-6\u001B[39m), end_time\u001B[38;5;241m=\u001B[39mu_ms(\u001B[38;5;241m10\u001B[39m))\n\u001B[1;32m     29\u001B[0m node \u001B[38;5;241m=\u001B[39m analysis2\u001B[38;5;241m.\u001B[39mL1\n\u001B[0;32m---> 30\u001B[0m \u001B[38;5;28mprint\u001B[39m(\u001B[38;5;124mf\u001B[39m\u001B[38;5;124m\"\u001B[39m\u001B[38;5;124mNode \u001B[39m\u001B[38;5;132;01m{\u001B[39;00m\u001B[38;5;28mstr\u001B[39m(node)\u001B[38;5;132;01m}\u001B[39;00m\u001B[38;5;124m: \u001B[39m\u001B[38;5;132;01m{\u001B[39;00m\u001B[38;5;28;43mfloat\u001B[39;49m\u001B[43m(\u001B[49m\u001B[43mnode\u001B[49m\u001B[43m)\u001B[49m\u001B[38;5;132;01m:\u001B[39;00m\u001B[38;5;124m4.1f\u001B[39m\u001B[38;5;132;01m}\u001B[39;00m\u001B[38;5;124m V\u001B[39m\u001B[38;5;124m\"\u001B[39m)\n",
      "\u001B[0;31mTypeError\u001B[0m: only length-1 arrays can be converted to Python scalars"
     ]
    }
   ],
   "source": [
    "import PySpice.Logging.Logging as Logging\n",
    "logger = Logging.setup_logging()\n",
    "\n",
    "from PySpice.Probe.Plot import plot\n",
    "from PySpice.Spice.Netlist import Circuit\n",
    "from PySpice.Unit import *\n",
    "\n",
    "circuit = Circuit('RLC Circuit')\n",
    "\n",
    "# Define the circuit\n",
    "circuit.V(1, '1', circuit.gnd, u_V(80))\n",
    "circuit.R(1, '1', '2', u_Ω(300))\n",
    "# The switch will need to be controlled in the simulation steps.\n",
    "circuit.R(2, '2', '4', u_Ω(500))\n",
    "circuit.L(1, '4', '5', u_H(2.5e-3))\n",
    "circuit.C(1, '5', circuit.gnd, u_F(40e-9))\n",
    "\n",
    "# Define the simulation: Transient analysis\n",
    "simulator = circuit.simulator(temperature=25, nominal_temperature=25)\n",
    "\n",
    "# First simulate with the switch open\n",
    "analysis1 = simulator.transient(step_time=u_s(1e-6), end_time=u_ms(5))\n",
    "\n",
    "# Then simulate with the switch closed\n",
    "# To simulate the switch, we can add a voltage source with 0V to short the circuit\n",
    "circuit.V(2, '3', '2', u_V(0))\n",
    "analysis2 = simulator.transient(step_time=u_s(1e-6), end_time=u_ms(10))\n",
    "\n",
    "node = analysis2.L1\n",
    "print(f\"Node {str(node)}: {float(node):4.1f} V\")\n"
   ],
   "metadata": {
    "collapsed": false,
    "ExecuteTime": {
     "end_time": "2023-12-23T08:51:15.808146717Z",
     "start_time": "2023-12-23T08:51:15.564258054Z"
    }
   },
   "id": "cd40b33843637b94",
   "execution_count": 11
  },
  {
   "cell_type": "code",
   "outputs": [],
   "source": [],
   "metadata": {
    "collapsed": false
   },
   "id": "ff12c14ce7d44aa5"
  }
 ],
 "metadata": {
  "kernelspec": {
   "display_name": "Python 3",
   "language": "python",
   "name": "python3"
  },
  "language_info": {
   "codemirror_mode": {
    "name": "ipython",
    "version": 2
   },
   "file_extension": ".py",
   "mimetype": "text/x-python",
   "name": "python",
   "nbconvert_exporter": "python",
   "pygments_lexer": "ipython2",
   "version": "2.7.6"
  }
 },
 "nbformat": 4,
 "nbformat_minor": 5
}
